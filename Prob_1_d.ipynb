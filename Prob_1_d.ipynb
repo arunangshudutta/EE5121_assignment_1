{
  "nbformat": 4,
  "nbformat_minor": 0,
  "metadata": {
    "colab": {
      "provenance": [],
      "authorship_tag": "ABX9TyPtlfomY97CPrdUXjRTEcYT",
      "include_colab_link": true
    },
    "kernelspec": {
      "name": "python3",
      "display_name": "Python 3"
    },
    "language_info": {
      "name": "python"
    }
  },
  "cells": [
    {
      "cell_type": "markdown",
      "metadata": {
        "id": "view-in-github",
        "colab_type": "text"
      },
      "source": [
        "<a href=\"https://colab.research.google.com/github/arunangshudutta/EE5121_assignment_1/blob/main/Prob_1_d.ipynb\" target=\"_parent\"><img src=\"https://colab.research.google.com/assets/colab-badge.svg\" alt=\"Open In Colab\"/></a>"
      ]
    },
    {
      "cell_type": "code",
      "execution_count": 1,
      "metadata": {
        "id": "1W0YKcR4H2pe"
      },
      "outputs": [],
      "source": [
        "import cvxpy as cp\n",
        "import numpy as np"
      ]
    },
    {
      "cell_type": "code",
      "source": [
        "A = np.array([[1, 0, 1],\n",
        "              [0, 1, 1],\n",
        "              [1, 1, 2]], dtype=float)\n",
        "\n",
        "b = np.array([0.2, 0.8, 1.0])"
      ],
      "metadata": {
        "id": "BDM7dsTXICzI"
      },
      "execution_count": 2,
      "outputs": []
    },
    {
      "cell_type": "code",
      "source": [
        "# Variable (pigment weights)\n",
        "x = cp.Variable(3, nonneg=True)\n",
        "\n",
        "# Problem: minimize l1-norm (sparse surrogate)\n",
        "objective = cp.Minimize(cp.norm1(x))\n",
        "constraints = [A @ x == b]\n",
        "prob = cp.Problem(objective, constraints)\n",
        "\n",
        "# Solve\n",
        "prob.solve()"
      ],
      "metadata": {
        "colab": {
          "base_uri": "https://localhost:8080/"
        },
        "id": "uCT1docDIGKr",
        "outputId": "26dd697e-6d64-492a-9c7d-0303c0e622bc"
      },
      "execution_count": 3,
      "outputs": [
        {
          "output_type": "execute_result",
          "data": {
            "text/plain": [
              "np.float64(0.8000000014092195)"
            ]
          },
          "metadata": {},
          "execution_count": 3
        }
      ]
    },
    {
      "cell_type": "code",
      "source": [
        "print(\"Sparse solution x:\", x.value)"
      ],
      "metadata": {
        "colab": {
          "base_uri": "https://localhost:8080/"
        },
        "id": "U3NqaBvkIOFO",
        "outputId": "fad8abfb-9de8-4964-9cf7-84ca540d16ca"
      },
      "execution_count": 5,
      "outputs": [
        {
          "output_type": "stream",
          "name": "stdout",
          "text": [
            "Sparse solution x: [1.40921976e-09 6.00000001e-01 1.99999999e-01]\n"
          ]
        }
      ]
    }
  ]
}