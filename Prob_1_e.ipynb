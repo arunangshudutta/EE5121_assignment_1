{
  "nbformat": 4,
  "nbformat_minor": 0,
  "metadata": {
    "colab": {
      "provenance": [],
      "authorship_tag": "ABX9TyMVzSxVKI8x5hgLw6q0f7Zh",
      "include_colab_link": true
    },
    "kernelspec": {
      "name": "python3",
      "display_name": "Python 3"
    },
    "language_info": {
      "name": "python"
    }
  },
  "cells": [
    {
      "cell_type": "markdown",
      "metadata": {
        "id": "view-in-github",
        "colab_type": "text"
      },
      "source": [
        "<a href=\"https://colab.research.google.com/github/arunangshudutta/EE5121_assignment_1/blob/main/Prob_1_e.ipynb\" target=\"_parent\"><img src=\"https://colab.research.google.com/assets/colab-badge.svg\" alt=\"Open In Colab\"/></a>"
      ]
    },
    {
      "cell_type": "code",
      "execution_count": 1,
      "metadata": {
        "id": "9eULuvwbOtb3"
      },
      "outputs": [],
      "source": [
        "import cvxpy as cp\n",
        "import numpy as np"
      ]
    },
    {
      "cell_type": "code",
      "source": [
        "A = np.array([[1, 0, 1],\n",
        "              [0, 1, 1],\n",
        "              [1, 1, 2]], dtype=float)\n",
        "\n",
        "b = np.array([0.2, 0.8, 0.95])"
      ],
      "metadata": {
        "id": "ju46wAzaOvHM"
      },
      "execution_count": 2,
      "outputs": []
    },
    {
      "cell_type": "code",
      "source": [
        "lam_vec = np.array([0.01, 0.05, 0.1, 0.2, 0.5])\n",
        "\n",
        "\n",
        "for i in range(0, len(lam_vec)):\n",
        "    # Regularization parameter\n",
        "    lam = lam_vec[i]\n",
        "    # Variable\n",
        "    x = cp.Variable(3, nonneg=True)\n",
        "\n",
        "    # Objective: L2 residual + lambda*L1\n",
        "    objective = cp.Minimize(0.5 * cp.sum_squares(A @ x - b) + lam * cp.norm1(x))\n",
        "\n",
        "    # Problem\n",
        "    prob = cp.Problem(objective)\n",
        "    prob.solve()\n",
        "\n",
        "    # Results\n",
        "    x_opt = x.value\n",
        "    residual = np.linalg.norm(A @ x_opt - b)\n",
        "\n",
        "    print(\"Lambda\", lam)\n",
        "    print(\"Optimal x:\", x_opt)\n",
        "    print(\"Residual:\", residual,'\\n')"
      ],
      "metadata": {
        "colab": {
          "base_uri": "https://localhost:8080/"
        },
        "id": "S_I_o5lOOzlF",
        "outputId": "6e2069b9-ffd7-4303-8688-a21cbc5653e0"
      },
      "execution_count": 5,
      "outputs": [
        {
          "output_type": "stream",
          "name": "stdout",
          "text": [
            "Lambda 0.01\n",
            "Optimal x: [5.31747092e-23 5.90000000e-01 1.86666667e-01]\n",
            "Residual: 0.03000000000000004 \n",
            "\n",
            "Lambda 0.05\n",
            "Optimal x: [0.   0.55 0.2 ]\n",
            "Residual: 0.050000000000000155 \n",
            "\n",
            "Lambda 0.1\n",
            "Optimal x: [0.         0.5        0.21666667]\n",
            "Residual: 0.08660254037844402 \n",
            "\n",
            "Lambda 0.2\n",
            "Optimal x: [0.   0.4  0.25]\n",
            "Residual: 0.16583123951776998 \n",
            "\n",
            "Lambda 0.5\n",
            "Optimal x: [1.17502838e-23 1.00000000e-01 3.50000000e-01]\n",
            "Residual: 0.4092676385936225 \n",
            "\n"
          ]
        }
      ]
    },
    {
      "cell_type": "code",
      "source": [],
      "metadata": {
        "id": "Du8apZP6O7es"
      },
      "execution_count": null,
      "outputs": []
    }
  ]
}