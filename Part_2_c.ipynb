{
  "nbformat": 4,
  "nbformat_minor": 0,
  "metadata": {
    "colab": {
      "provenance": [],
      "authorship_tag": "ABX9TyPNrZ6OXN/XFHvxATCvdoS9",
      "include_colab_link": true
    },
    "kernelspec": {
      "name": "python3",
      "display_name": "Python 3"
    },
    "language_info": {
      "name": "python"
    }
  },
  "cells": [
    {
      "cell_type": "markdown",
      "metadata": {
        "id": "view-in-github",
        "colab_type": "text"
      },
      "source": [
        "<a href=\"https://colab.research.google.com/github/arunangshudutta/EE5121_assignment_1/blob/main/Part_2_c.ipynb\" target=\"_parent\"><img src=\"https://colab.research.google.com/assets/colab-badge.svg\" alt=\"Open In Colab\"/></a>"
      ]
    },
    {
      "cell_type": "code",
      "source": [
        "import numpy as np\n",
        "import cvxpy as cp"
      ],
      "metadata": {
        "id": "sBodLCnZZgk_"
      },
      "execution_count": 5,
      "outputs": []
    },
    {
      "cell_type": "code",
      "execution_count": 6,
      "metadata": {
        "colab": {
          "base_uri": "https://localhost:8080/"
        },
        "id": "d8cMfqgzZVeS",
        "outputId": "4b147548-76e6-42b4-f59b-7f022f46626b"
      },
      "outputs": [
        {
          "output_type": "stream",
          "name": "stdout",
          "text": [
            "Matrix A\n",
            "[[ 1.   0.   0.   0.   0. ]\n",
            " [ 0.8  1.   0.   0.   0. ]\n",
            " [-0.2  0.8  1.   0.   0. ]\n",
            " [ 0.5 -0.2  0.8  1.   0. ]\n",
            " [ 0.   0.5 -0.2  0.8  1. ]]\n",
            "Matrix B\n",
            "[[ 1.  -1.   0.   0.   1. ]\n",
            " [ 2.8 -0.8  1.  -1.   0.8]\n",
            " [ 2.4  1.2  1.8 -1.8 -1.2]\n",
            " [ 2.9 -1.7  0.6 -0.6  1.7]\n",
            " [ 0.4 -1.8 -0.7  0.7  1.8]]\n"
          ]
        }
      ],
      "source": [
        "# filter response\n",
        "u = np.array([1, 0.8, -0.2, 0.5, 0])\n",
        "# Topelitz matrix\n",
        "A = np.zeros((5, 5))\n",
        "for i in range(5):\n",
        "    for j in range(5):\n",
        "        if i >= j:\n",
        "            A[i, j] = u[i - j]\n",
        "\n",
        "B = np.array([\n",
        "    [ 1,   -1,    0,   0,   1],\n",
        "    [ 2.8, -0.8,  1,  -1,   0.8],\n",
        "    [ 2.4,  1.2,  1.8, -1.8, -1.2],\n",
        "    [ 2.9, -1.7,  0.6, -0.6,  1.7],\n",
        "    [ 0.4, -1.8, -0.7,  0.7,  1.8]\n",
        "])\n",
        "\n",
        "print(\"Matrix A\")\n",
        "print(A)\n",
        "print(\"Matrix B\")\n",
        "print(B)\n"
      ]
    },
    {
      "cell_type": "code",
      "source": [
        "print(cp.installed_solvers())"
      ],
      "metadata": {
        "colab": {
          "base_uri": "https://localhost:8080/"
        },
        "id": "8X9392frbXDV",
        "outputId": "56499efd-3b7d-4a25-e6d3-ff88e51fc958"
      },
      "execution_count": 7,
      "outputs": [
        {
          "output_type": "stream",
          "name": "stdout",
          "text": [
            "['CLARABEL', 'CVXOPT', 'GLPK', 'GLPK_MI', 'HIGHS', 'OSQP', 'SCIPY', 'SCS']\n"
          ]
        }
      ]
    },
    {
      "cell_type": "markdown",
      "source": [
        "### Part 1:"
      ],
      "metadata": {
        "id": "Q8iC4oLl2iKE"
      }
    },
    {
      "cell_type": "code",
      "source": [
        "\n",
        "X = cp.Variable((5, 5)) # Variable\n",
        "constraints = [A @ X == B]\n",
        "objective = cp.Minimize(cp.normNuc(X)) # # Objective: nuclear-norm minimization\n",
        "prob = cp.Problem(objective, constraints)\n",
        "prob.solve(solver=cp.SCS)\n",
        "\n",
        "print(\"Optimal X:\\n\", np.round(X.value,3))\n",
        "print(\"Residual:\", np.linalg.norm(A @ X.value - B, 'fro'))\n",
        "\n"
      ],
      "metadata": {
        "colab": {
          "base_uri": "https://localhost:8080/"
        },
        "id": "bX5qc9-TZ3u9",
        "outputId": "86ed7169-e238-42e1-cb49-f9389b1d6808"
      },
      "execution_count": 8,
      "outputs": [
        {
          "output_type": "stream",
          "name": "stdout",
          "text": [
            "Optimal X:\n",
            " [[ 1. -1.  0. -0.  1.]\n",
            " [ 2.  0.  1. -1. -0.]\n",
            " [ 1.  1.  1. -1. -1.]\n",
            " [ 2. -2. -0.  0.  2.]\n",
            " [-2. -0. -1.  1.  0.]]\n",
            "Residual: 7.623333163486916e-08\n"
          ]
        }
      ]
    },
    {
      "cell_type": "markdown",
      "source": [
        "### Part 2: Noisy case"
      ],
      "metadata": {
        "id": "_hDA3kXR2YuM"
      }
    },
    {
      "cell_type": "code",
      "source": [
        "\n",
        "np.random.seed(42)\n",
        "noise = np.diag(np.random.normal(0, np.sqrt(0.1), 5))\n",
        "B_noisy = B + noise\n",
        "\n",
        "eps = np.sqrt(5 * 0.1)   # reasonable tolerance (≈ expected Frobenius norm of noise)\n",
        "\n",
        "X_noisy = cp.Variable((5, 5)) # Variable\n",
        "constraints_noisy = [cp.norm(A @ X_noisy - B_noisy, 'fro') <= eps]\n",
        "objective_noisy = cp.Minimize(cp.normNuc(X_noisy)) # Objective\n",
        "prob_noisy = cp.Problem(objective_noisy, constraints_noisy)\n",
        "prob_noisy.solve(solver=cp.SCS)\n",
        "\n",
        "print(\"Optimal X (noisy):\\n\", np.round(X_noisy.value,3))\n",
        "print(\"Residual:\", np.linalg.norm(A @ X_noisy.value - B_noisy, 'fro'))"
      ],
      "metadata": {
        "colab": {
          "base_uri": "https://localhost:8080/"
        },
        "id": "zPe3HEDVbvMe",
        "outputId": "79b85b3a-4e07-4479-d497-301a446f71de"
      },
      "execution_count": 9,
      "outputs": [
        {
          "output_type": "stream",
          "name": "stdout",
          "text": [
            "Optimal X (noisy):\n",
            " [[ 1.318 -1.091  0.098  0.015  1.07 ]\n",
            " [ 1.494  0.202  0.912 -0.802 -0.202]\n",
            " [ 1.491  0.636  1.152 -1.048 -0.629]\n",
            " [ 1.071 -1.52  -0.274  0.373  1.493]\n",
            " [-0.755 -0.443 -0.652  0.6    0.438]]\n",
            "Residual: 0.7071067844650878\n"
          ]
        }
      ]
    },
    {
      "cell_type": "code",
      "source": [],
      "metadata": {
        "id": "m2oRF125cHB8"
      },
      "execution_count": 9,
      "outputs": []
    }
  ]
}